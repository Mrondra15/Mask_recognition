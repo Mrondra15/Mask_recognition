{
 "cells": [
  {
   "cell_type": "code",
   "execution_count": 3,
   "id": "33965a40",
   "metadata": {},
   "outputs": [],
   "source": [
    "import PIL\n",
    "from PIL import ImageOps, Image\n",
    "import os\n",
    "from pathlib import Path"
   ]
  },
  {
   "cell_type": "code",
   "execution_count": 12,
   "id": "75083038",
   "metadata": {},
   "outputs": [],
   "source": [
    "dir1 = Path(\"dataset/with_mask/\")\n",
    "dir2 = Path(\"dataset/without_mask/\")\n",
    "images = list(map(str, list(dir2.glob(\"*\"))))\n",
    "for image in images:\n",
    "    im = Image.open(image)\n",
    "    im = ImageOps.grayscale(im)\n",
    "    im.save(image)"
   ]
  }
 ],
 "metadata": {
  "kernelspec": {
   "display_name": "Python 3 (ipykernel)",
   "language": "python",
   "name": "python3"
  },
  "language_info": {
   "codemirror_mode": {
    "name": "ipython",
    "version": 3
   },
   "file_extension": ".py",
   "mimetype": "text/x-python",
   "name": "python",
   "nbconvert_exporter": "python",
   "pygments_lexer": "ipython3",
   "version": "3.9.13"
  }
 },
 "nbformat": 4,
 "nbformat_minor": 5
}
